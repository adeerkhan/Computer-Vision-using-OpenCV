{
 "cells": [
  {
   "cell_type": "code",
   "execution_count": 1,
   "id": "af35d7cf",
   "metadata": {},
   "outputs": [],
   "source": [
    "import numpy as np\n",
    "import cv2"
   ]
  },
  {
   "cell_type": "code",
   "execution_count": 12,
   "id": "e7980acb",
   "metadata": {},
   "outputs": [
    {
     "name": "stdout",
     "output_type": "stream",
     "text": [
      "[[  1.      0.    102.875]\n",
      " [  0.      1.    125.   ]]\n"
     ]
    }
   ],
   "source": [
    "# image translation\n",
    "\n",
    "img = cv2.imread(\"Spinoza.JPG\")\n",
    "height, width = img.shape[:2]\n",
    "\n",
    "quarter_height, quarter_width = height/8,width/8\n",
    "\n",
    "# T is our translation matrix\n",
    "T = np.float32([[1,0,quarter_width], [0,1,quarter_height]])\n",
    "\n",
    "# use warpAffine to transform the image using the matrix T\n",
    "img_translation = cv2.warpAffine(image, T, (width,height))\n",
    "\n",
    "cv2.imshow('Normal Image',img)\n",
    "cv2.imshow('Translated Image',img_translation)\n",
    "\n",
    "# the translation is currently based on the height and width\n",
    "print (T)\n",
    "\n",
    "cv2.waitKey()\n",
    "cv2.destroyAllWindows()"
   ]
  },
  {
   "cell_type": "code",
   "execution_count": 25,
   "id": "2863ee96",
   "metadata": {},
   "outputs": [],
   "source": [
    "# image rotation\n",
    "\n",
    "img = cv2.imread(\"Spinoza.JPG\")\n",
    "height, width = img.shape[:2]\n",
    "\n",
    "# divide by two to rotate the image around its centre\n",
    "rotation_matrix = cv2.getRotationMatrix2D((width/2,height/2),90,4)\n",
    "\n",
    "rotate_img = cv2.warpAffine(image,rotation_matrix,(width,height))\n",
    "# transpose function is used to remove black spaces\n",
    "rotate_img = cv2.transpose(img)\n",
    "cv2.imshow(\"Rotated Image\", rotate_img)\n",
    "\n",
    "cv2.waitKey()\n",
    "cv2.destroyAllWindows()"
   ]
  },
  {
   "cell_type": "code",
   "execution_count": 28,
   "id": "087ec4c4",
   "metadata": {},
   "outputs": [
    {
     "data": {
      "text/plain": [
       "<function destroyAllWindows>"
      ]
     },
     "execution_count": 28,
     "metadata": {},
     "output_type": "execute_result"
    }
   ],
   "source": [
    "# resizing, scaling and interpolating an image\n",
    "\n",
    "img = cv2.imread(\"Spinoza.JPG\")\n",
    "\n",
    "# making image 3/4 of it's original size\n",
    "img_scaled = cv2.resize(img, None, fx=0.75,fy=0.75)\n",
    "cv2.imshow('Linear Interpolation Scaled Image', img_scaled)\n",
    "cv2.waitKey()\n",
    "\n",
    "# making image double of it's original size\n",
    "img_scaled = cv2.resize(img, None, fx=2,fy=2, interpolation = cv2.INTER_CUBIC)\n",
    "cv2.imshow('Cubic Interpolation Scaled Image', img_scaled)\n",
    "cv2.waitKey()\n",
    "\n",
    "# skewing an image through some dimensions\n",
    "img_scaled = cv2.resize(img, (1000,400), interpolation = cv2.INTER_AREA)\n",
    "cv2.imshow('Skewed Image', img_scaled)\n",
    "cv2.waitKey()\n",
    "\n",
    "cv2.destroyAllWindows"
   ]
  },
  {
   "cell_type": "code",
   "execution_count": 30,
   "id": "933039da",
   "metadata": {},
   "outputs": [],
   "source": [
    "# image pyramids(used for object detection)\n",
    "\n",
    "img = cv2.imread(\"Spinoza.JPG\")\n",
    "\n",
    "smaller = cv2.pyrDown(img)\n",
    "larger = cv2.pyrUp(smaller)\n",
    "\n",
    "cv2.imshow('Original', img)\n",
    "cv2.imshow('Smaller', smaller)\n",
    "cv2.imshow('Larger', larger)\n",
    "\n",
    "cv2.waitKey(0)\n",
    "cv2.destroyAllWindows()"
   ]
  },
  {
   "cell_type": "code",
   "execution_count": 31,
   "id": "2d451c48",
   "metadata": {},
   "outputs": [
    {
     "data": {
      "text/plain": [
       "<function destroyAllWindows>"
      ]
     },
     "execution_count": 31,
     "metadata": {},
     "output_type": "execute_result"
    }
   ],
   "source": [
    "# cropping image (for segment extraction)\n",
    "\n",
    "img = cv2.imread(\"Spinoza.JPG\")\n",
    "height, width = image.shape[:2]\n",
    "\n",
    "# the cropping rectangle currently set is for center extraction\n",
    "\n",
    "# pixel coordinates of cropping rectangle\n",
    "start_row, start_col = int(height*0.25), int(width*0.25)\n",
    "\n",
    "# ending coordinates of cropping rectangle\n",
    "end_row, end_col = int(height*0.75), int(width*0.75)\n",
    "\n",
    "cropped = img[start_row:end_row, start_col:end_col]\n",
    "\n",
    "cv2.imshow(\"Original Image\", image)\n",
    "cv2.waitKey(0)\n",
    "cv2.imshow(\"Cropped Image\", cropped)\n",
    "cv2.waitKey(0)\n",
    "cv2.destroyAllWindows\n"
   ]
  },
  {
   "cell_type": "code",
   "execution_count": 41,
   "id": "c60f29ee",
   "metadata": {},
   "outputs": [],
   "source": [
    "# blurring an image\n",
    "\n",
    "img = cv2.imread(\"birds.JPG\")\n",
    "cv2.imshow(\"Original Image\",img)\n",
    "cv2.waitKey(0)\n",
    "\n",
    "# creating 3x3 kernel\n",
    "kernel_3 = np.ones((3,3), np.float32) / 9\n",
    "\n",
    "# use cv2.filter2D to convolve the kernel with an image\n",
    "blurred = cv2.filter2D(img, -1, kernel_3)\n",
    "cv2.imshow(\"3x3 Kernel Blurring\", blurred)\n",
    "cv2.waitKey(0)\n",
    "\n",
    "# creating 9x9 kernel\n",
    "kernel_3 = np.ones((9,9), np.float32) / 81\n",
    "\n",
    "# use cv2.filter2D to convolve the kernel with an image\n",
    "blurred = cv2.filter2D(img, -1, kernel_3)\n",
    "cv2.imshow(\"3x3 Kernel Blurring\", blurred)\n",
    "cv2.waitKey(0)\n",
    "\n",
    "cv2.destroyAllWindows()"
   ]
  },
  {
   "cell_type": "code",
   "execution_count": 43,
   "id": "49994962",
   "metadata": {},
   "outputs": [],
   "source": [
    "# blurring an image using methods in openCV\n",
    "\n",
    "img = cv2.imread(\"birds.JPG\")\n",
    "cv2.imshow(\"Original Image\", img)\n",
    "cv2.waitKey(0)\n",
    "\n",
    "# using Gaussian kernel blurr\n",
    "gaussian = cv2.GaussianBlur(img, (9,9), 5)\n",
    "cv2.imshow(\"Gaussian Blurring\", gaussian)\n",
    "cv2.waitKey(0)\n",
    "\n",
    "# using Median kernel blurr\n",
    "median = cv2.medianBlur(img, 15)\n",
    "cv2.imshow(\"Median Blurring\", median)\n",
    "cv2.waitKey(0)\n",
    "\n",
    "cv2.destroyAllWindows()"
   ]
  },
  {
   "cell_type": "code",
   "execution_count": 18,
   "id": "3d10f2ce",
   "metadata": {},
   "outputs": [],
   "source": [
    "# dilation, erosion, opening and closing (for noise removal)\n",
    "\n",
    "img  = cv2.imread(\"script.PNG\")\n",
    "cv2.imshow(\"Original Script\", img)\n",
    "cv2.waitKey(0)\n",
    "\n",
    "# defining kernel size\n",
    "kernel = np.ones((10,10), np.uint8)\n",
    "\n",
    "# try dilation first\n",
    "dilation = cv2.dilate(img, kernel, iterations = 1)\n",
    "cv2.imshow(\"Dilated Script\", dilation)\n",
    "cv2.waitKey(0)\n",
    "\n",
    "# try erosion\n",
    "erosion = cv2.erode(img, kernel, iterations = 1)\n",
    "cv2.imshow(\"Eroded Script\", erosion)\n",
    "cv2.waitKey(0)\n",
    "\n",
    "# if u are confused that they are doing the opposite\n",
    "# then think that in erosion the background erodes away from the text and vice-versa\n",
    "\n",
    "opening = cv2.morphologyEx(img, cv2.MORPH_OPEN, kernel)\n",
    "cv2.imshow(\"Opening Script\", opening)\n",
    "cv2.waitKey(0)\n",
    "\n",
    "closing = cv2.morphologyEx(img, cv2.MORPH_CLOSE, kernel)\n",
    "cv2.imshow(\"Closing Script\", closing)\n",
    "cv2.waitKey(0)\n",
    "\n",
    "cv2.destroyAllWindows()"
   ]
  },
  {
   "cell_type": "code",
   "execution_count": 15,
   "id": "de4a8349",
   "metadata": {},
   "outputs": [],
   "source": [
    "# edge detection & image gradients\n",
    "\n",
    "image = cv2.imread(\"birds.JPG\")\n",
    "\n",
    "# extract sobel edges\n",
    "sobel_x = cv2.Sobel(image, cv2.CV_64F, 0, 1, ksize = 5)\n",
    "sobel_y = cv2.Sobel(image, cv2.CV_64F, 1, 0, ksize = 5)\n",
    "\n",
    "# image gradients\n",
    "cv2.imshow(\"Original Image\", image)\n",
    "cv2.waitKey(0)\n",
    "cv2.imshow(\"Sobel X Image\", sobel_x)\n",
    "cv2.waitKey(0)\n",
    "cv2.imshow(\"Sobel Y Image\", sobel_y)\n",
    "cv2.waitKey(0)\n",
    "\n",
    "sobel_OR = cv2.bitwise_or(sobel_x,sobel_y)\n",
    "cv2.imshow('Sobel_OR', sobel_OR)\n",
    "cv2.waitKey(0)\n",
    "\n",
    "laplacian = cv2.Laplacian(image, cv2.CV_64F)\n",
    "cv2.imshow('Laplacian', laplacian)\n",
    "cv2.waitKey(0)\n",
    "\n",
    "# edge detection using canny\n",
    "canny = cv2.Canny(image, 40, 120)\n",
    "cv2.imshow(\"Canny\", canny)\n",
    "cv2.waitKey(0)\n",
    "\n",
    "cv2.destroyAllWindows()"
   ]
  },
  {
   "cell_type": "code",
   "execution_count": 2,
   "id": "d5578e82",
   "metadata": {},
   "outputs": [],
   "source": [
    "# mini project, live sketch of webcam\n",
    "\n",
    "# sketch generating function\n",
    "def sketch(image):\n",
    "    # convert image to grayscale\n",
    "    img_gray = cv2.cvtColor(image, cv2.COLOR_BGR2GRAY)\n",
    "    \n",
    "    # clean the image using gaussian blur\n",
    "    img_gray_blur = cv2.GaussianBlur(img_gray, (5,5),0)\n",
    "    \n",
    "    # extract the edges\n",
    "    canny_edges = cv2.Canny(img_gray_blur, 10, 70)\n",
    "    \n",
    "    # do an invert to binarize the image\n",
    "    ret, mask = cv2.threshold(canny_edges, 70, 255, cv2.THRESH_BINARY_INV)\n",
    "    return mask\n",
    "\n",
    "# capture videocam recording\n",
    "cap = cv2.VideoCapture(0)\n",
    "\n",
    "while True:\n",
    "    ret, frame = cap.read()\n",
    "    cv2.imshow(\"Live Sketch\", sketch(frame))\n",
    "    if cv2.waitKey(1) == 13: # 13 is the special number for 'enter' key\n",
    "        break\n",
    " \n",
    "cap.release()\n",
    "cv2.destroyAllWindows()"
   ]
  },
  {
   "cell_type": "code",
   "execution_count": 3,
   "id": "f7f64df8",
   "metadata": {},
   "outputs": [],
   "source": [
    "# thats all folks!"
   ]
  }
 ],
 "metadata": {
  "kernelspec": {
   "display_name": "Python 3 (ipykernel)",
   "language": "python",
   "name": "python3"
  },
  "language_info": {
   "codemirror_mode": {
    "name": "ipython",
    "version": 3
   },
   "file_extension": ".py",
   "mimetype": "text/x-python",
   "name": "python",
   "nbconvert_exporter": "python",
   "pygments_lexer": "ipython3",
   "version": "3.9.12"
  }
 },
 "nbformat": 4,
 "nbformat_minor": 5
}
