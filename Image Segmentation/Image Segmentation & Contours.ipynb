{
 "cells": [
  {
   "cell_type": "markdown",
   "id": "342910fa",
   "metadata": {},
   "source": [
    "# Image Segmentation and Contours"
   ]
  },
  {
   "cell_type": "code",
   "execution_count": 1,
   "id": "df12ab32",
   "metadata": {},
   "outputs": [],
   "source": [
    "import numpy as np\n",
    "import cv2"
   ]
  },
  {
   "cell_type": "markdown",
   "id": "45191ec6",
   "metadata": {},
   "source": [
    "### Contour Extraction"
   ]
  },
  {
   "cell_type": "code",
   "execution_count": 2,
   "id": "d657847b",
   "metadata": {
    "scrolled": true
   },
   "outputs": [
    {
     "name": "stdout",
     "output_type": "stream",
     "text": [
      "Number of Contours= 4\n"
     ]
    }
   ],
   "source": [
    "image = cv2.imread(\"shapes.png\")\n",
    "cv2.imshow(\"Input Image\", image)\n",
    "cv2.waitKey(0)\n",
    "\n",
    "# grayscale\n",
    "gray = cv2.cvtColor(image, cv2.COLOR_BGR2GRAY)\n",
    "\n",
    "# find canny edges\n",
    "edged = cv2.Canny(gray, 30, 200)\n",
    "cv2.imshow('Canny Edges', edged)\n",
    "cv2.waitKey(0)\n",
    "\n",
    "# finding contours\n",
    "contours, hierarchy = cv2.findContours(edged, cv2.RETR_EXTERNAL, cv2.CHAIN_APPROX_NONE)\n",
    "cv2.imshow('Canny Edges After Contouring', edged)\n",
    "cv2.waitKey(0)\n",
    "\n",
    "print('Number of Contours= '+ str(len(contours)))\n",
    "\n",
    "# drawl all the contours around the shapes\n",
    "cv2.drawContours(image, contours, -1, (0,255,0),3) # -1 to draw all\n",
    "cv2.imshow('Contours', image)\n",
    "cv2.waitKey(0)\n",
    "\n",
    "cv2.destroyAllWindows()"
   ]
  },
  {
   "cell_type": "markdown",
   "id": "5da7a676",
   "metadata": {},
   "source": [
    "### Contour Sorting by Area"
   ]
  },
  {
   "cell_type": "code",
   "execution_count": 5,
   "id": "74bedcd3",
   "metadata": {
    "scrolled": true
   },
   "outputs": [
    {
     "name": "stdout",
     "output_type": "stream",
     "text": [
      "Contours Areas before Sorting\n",
      "17686.0\n",
      "30012.5\n",
      "65022.0\n",
      "59675.0\n",
      "[59675.0]\n",
      "Contour Areas after Sorting\n",
      "65022.0\n",
      "59675.0\n",
      "30012.5\n",
      "17686.0\n",
      "[17686.0]\n"
     ]
    }
   ],
   "source": [
    "# now we sort the contours by area size\n",
    "\n",
    "def get_contour_areas(contours):\n",
    "    # returns the areas of all contours in list\n",
    "    for cnt in contours:\n",
    "        all_areas = []\n",
    "        area  = cv2.contourArea(cnt)\n",
    "        all_areas.append(area)\n",
    "        print (area)\n",
    "    return all_areas\n",
    "\n",
    "# load image \n",
    "image = cv2.imread('shapes.png')\n",
    "original_image = image\n",
    "\n",
    "# printing the areas of the contours before sorting\n",
    "print (\"Contours Areas before Sorting\")\n",
    "print (get_contour_areas(contours))\n",
    "\n",
    "# sort contour areas large to small\n",
    "sorted_contours = sorted(contours, key=cv2.contourArea, reverse = True)\n",
    "\n",
    "print (\"Contour Areas after Sorting\") \n",
    "print (get_contour_areas(sorted_contours))\n",
    "\n",
    "for c in sorted_contours:\n",
    "    cv2.drawContours(original_image, [c], -1, (255,0,0),3)\n",
    "    cv2.waitKey()\n",
    "    cv2.imshow('Contours by Area', original_image)\n",
    "\n",
    "cv2.waitKey()\n",
    "cv2.destroyAllWindows()    "
   ]
  },
  {
   "cell_type": "markdown",
   "id": "df600238",
   "metadata": {},
   "source": [
    "### Contour Sorting by Position"
   ]
  },
  {
   "cell_type": "code",
   "execution_count": 8,
   "id": "9c5a5f56",
   "metadata": {
    "scrolled": true
   },
   "outputs": [
    {
     "name": "stdout",
     "output_type": "stream",
     "text": [
      "output_shape_number_1.jpg\n",
      "output_shape_number_2.jpg\n",
      "output_shape_number_3.jpg\n",
      "output_shape_number_4.jpg\n"
     ]
    }
   ],
   "source": [
    "# sorting  by position\n",
    "\n",
    "def x_cord_contour(contours):\n",
    "    if cv2.contourArea(contours)>10:\n",
    "        M = cv2.moments(contours)\n",
    "        return (int(M['m10']/M['m00']))\n",
    "                               \n",
    "def label_contour_center(image,c):\n",
    "    # place red circle at center of contours\n",
    "    M = cv2.moments(c)\n",
    "    cx = int(M['m10']/M['m00'])\n",
    "    cy = int(M['m01']/M['m00'])\n",
    "    \n",
    "    cv2.circle(image, (cx,cy),10,(0,0,255),-1)\n",
    "    return image\n",
    "\n",
    "# load our image\n",
    "image = cv2.imread('shapes.png')\n",
    "original_image = image.copy()\n",
    "\n",
    "# compute centroids and draw them on image using loop and previous function\n",
    "for (i,c) in enumerate(contours):\n",
    "    orig = label_contour_center(image,c)\n",
    "    \n",
    "cv2.imshow(\"4 - Contour Centers \", image)\n",
    "cv2.waitKey(0)\n",
    "\n",
    "# sort contours from left to right\n",
    "contours_left_to_right = sorted(contours, key = x_cord_contour, reverse = False)\n",
    "\n",
    "# labeling contours from left to right\n",
    "for (i,c) in enumerate(contours_left_to_right):\n",
    "    cv2.drawContours(original_image, [c], -1, (0,0,255),3)\n",
    "    M = cv2.moments(c)\n",
    "    cx = int(M['m10']/M['m00'])\n",
    "    cy = int(M['m01']/M['m00'])\n",
    "    cv2.putText(original_image, str(i+1), (cx,cy), cv2.FONT_HERSHEY_SIMPLEX, 1, (0,255,0),2)\n",
    "    cv2.imshow('6 - Left to Right Contours',original_image)\n",
    "    cv2.waitKey(0)\n",
    "    (x,y,w,h) = cv2.boundingRect(c)\n",
    "    \n",
    "    # now lets crop each contour\n",
    "    cropped_contour = original_image[y:y+h, x:x+w]\n",
    "    image_name = \"output_shape_number_\"+str(i+1)+\".jpg\"\n",
    "    print(image_name)\n",
    "    cv2.imwrite(image_name, cropped_contour)\n",
    "    \n",
    "cv2.destroyAllWindows()"
   ]
  },
  {
   "cell_type": "markdown",
   "id": "16c4429a",
   "metadata": {},
   "source": [
    "### Approximating Contours"
   ]
  },
  {
   "cell_type": "code",
   "execution_count": 2,
   "id": "874b9dfa",
   "metadata": {},
   "outputs": [],
   "source": [
    "# approximating contours\n",
    "image = cv2.imread('house.png')\n",
    "orig_image = image.copy()\n",
    "cv2.imshow(\"Original Image\",orig_image)\n",
    "cv2.waitKey()\n",
    "\n",
    "# grayscale and binarize\n",
    "image_gray = cv2.cvtColor(image, cv2.COLOR_BGR2GRAY)\n",
    "ret, thresh = cv2.threshold(image_gray, 127, 255, cv2.THRESH_BINARY_INV)\n",
    "\n",
    "# find contours\n",
    "contours, heirarchy = cv2.findContours(thresh.copy(), cv2.RETR_LIST, cv2.CHAIN_APPROX_NONE)\n",
    "\n",
    "# iterate through each contours and add a bounding box\n",
    "for c in contours:\n",
    "    x,y,w,h = cv2.boundingRect(c)\n",
    "    cv2.rectangle(orig_image, (x,y), (x+w,y+h), (0,0,255),2)\n",
    "    cv2.imshow('Bounding Rectangle', orig_image)\n",
    "cv2.waitKey(0)\n",
    "\n",
    "for c in contours:\n",
    "    # calculate accuracy as a percentage of the contour perimeter\n",
    "    accuracy = 0.03*cv2.arcLength(c,True)\n",
    "    approx = cv2.approxPolyDP(c,accuracy, True)\n",
    "    cv2.drawContours(image, [approx], 0, (0,255,0),2)\n",
    "    cv2.imshow('Approx Poly', image)\n",
    "\n",
    "cv2.waitKey(0)\n",
    "cv2.destroyAllWindows()"
   ]
  },
  {
   "cell_type": "markdown",
   "id": "dd5c032a",
   "metadata": {},
   "source": [
    "### Approximating Contours using Convex Hull"
   ]
  },
  {
   "cell_type": "code",
   "execution_count": 10,
   "id": "e198ad92",
   "metadata": {},
   "outputs": [],
   "source": [
    "# convex hull (drawing a minimum sided polygon around a shap)\n",
    "image = cv2.imread('hand.png')\n",
    "gray = cv2.cvtColor(image, cv2.COLOR_BGR2GRAY)\n",
    "\n",
    "cv2.imshow('Original Image', image)\n",
    "cv2.waitKey(0) \n",
    "\n",
    "# threshold the image and then find contours \n",
    "ret, thresh = cv2.threshold(gray, 176, 255, 0)\n",
    "contours, hierarchy = cv2.findContours(thresh.copy(), cv2.RETR_LIST, cv2.CHAIN_APPROX_NONE)\n",
    "    \n",
    "# sort contors by area and then remove the largest frame contour\n",
    "n = len(contours) -1\n",
    "contours = sorted(contours, key=cv2.contourArea, reverse=False)[:n]\n",
    "\n",
    "# Iterate through contours and draw the convex hull\n",
    "for c in contours:\n",
    "    hull = cv2.convexHull(c)\n",
    "    cv2.drawContours(image, [hull], 0, (0, 255, 0), 2)\n",
    "    cv2.imshow('Convex Hull', image)\n",
    "\n",
    "cv2.waitKey(0)    \n",
    "cv2.destroyAllWindows()"
   ]
  },
  {
   "cell_type": "markdown",
   "id": "88b17c09",
   "metadata": {},
   "source": [
    "### Shape Matching"
   ]
  },
  {
   "cell_type": "code",
   "execution_count": 2,
   "id": "a21fa6dd",
   "metadata": {},
   "outputs": [
    {
     "name": "stdout",
     "output_type": "stream",
     "text": [
      "0.08389081634879778\n",
      "0.09435604747204475\n"
     ]
    }
   ],
   "source": [
    "# shape matching\n",
    "\n",
    "template = cv2.imread('shapes.png')\n",
    "template_gray = cv2.cvtColor(template,cv2.COLOR_BGR2GRAY)\n",
    "cv2.imshow('Template', template_gray)\n",
    "cv2.waitKey()\n",
    "\n",
    "# load the target image to match with the template\n",
    "target = cv2.imread('star.png')\n",
    "target_gray = cv2.cvtColor(target,cv2.COLOR_BGR2GRAY)\n",
    "cv2.imshow('Gray Target', target_gray)\n",
    "cv2.waitKey()\n",
    "\n",
    "# threshold both images first before using cv2.findContours\n",
    "ret, thresh1 = cv2.threshold(template_gray, 127, 255, 0)\n",
    "ret, thresh2 = cv2.threshold(target_gray, 127, 255, 0)\n",
    "\n",
    "# first find contours in template\n",
    "contours, hierarchy = cv2.findContours(thresh1, cv2.RETR_CCOMP, cv2.CHAIN_APPROX_SIMPLE)\n",
    "\n",
    "# sort the contours by area\n",
    "sorted_contours = sorted(contours, key=cv2.contourArea, reverse=True)\n",
    "\n",
    "# we extract the second largest contour which will be our template contour\n",
    "template_contour = contours[1]\n",
    "\n",
    "# extract contours from second target image\n",
    "contours, hierarchy = cv2.findContours(thresh2, cv2.RETR_CCOMP, cv2.CHAIN_APPROX_SIMPLE)\n",
    "\n",
    "for c in contours:\n",
    "    # iterate through each contour in the target image and \n",
    "    match = cv2.matchShapes(template_contour, c, 3, 0.0)\n",
    "    print (match)\n",
    "    if match < 0.15:\n",
    "        closest_contour = c\n",
    "    else:\n",
    "        closest_contour = [] \n",
    "                \n",
    "cv2.drawContours(target, [closest_contour], -1, (0,255,0), 3)\n",
    "cv2.imshow('Output', target)\n",
    "cv2.waitKey()\n",
    "cv2.destroyAllWindows()"
   ]
  },
  {
   "cell_type": "markdown",
   "id": "640f6b57",
   "metadata": {},
   "source": [
    "### Shape Identification"
   ]
  },
  {
   "cell_type": "code",
   "execution_count": 12,
   "id": "ac026903",
   "metadata": {},
   "outputs": [],
   "source": [
    "# load and then gray scale image\n",
    "\n",
    "image = cv2.imread('shapes.png')\n",
    "gray = cv2.cvtColor(image, cv2.COLOR_BGR2GRAY)\n",
    "\n",
    "cv2.imshow('Identifying Shapes',image)\n",
    "cv2.waitKey(0)\n",
    "\n",
    "ret, thresh = cv2.threshold(gray, 127, 255, 1)\n",
    "\n",
    "# extract contours\n",
    "contours, hierarchy = cv2.findContours(thresh.copy(), cv2.RETR_LIST, cv2.CHAIN_APPROX_NONE)\n",
    "\n",
    "for cnt in contours:\n",
    "    \n",
    "    # get approximate polygons\n",
    "    approx = cv2.approxPolyDP(cnt, 0.01*cv2.arcLength(cnt,True),True)\n",
    "    \n",
    "    if len(approx) == 3:\n",
    "        shape_name = \"Triangle\"\n",
    "        cv2.drawContours(image,[cnt],0,(0,255,0),-1)\n",
    "        \n",
    "        # find contour center to place text at the center\n",
    "        M = cv2.moments(cnt)\n",
    "        cx = int(M['m10'] / M['m00'])\n",
    "        cy = int(M['m01'] / M['m00'])\n",
    "        cv2.putText(image, shape_name, (cx-50, cy), cv2.FONT_HERSHEY_SIMPLEX, 1, (0, 0, 0), 1)\n",
    "    \n",
    "    elif len(approx) == 4:\n",
    "        x,y,w,h = cv2.boundingRect(cnt)\n",
    "        M = cv2.moments(cnt)\n",
    "        cx = int(M['m10'] / M['m00'])\n",
    "        cy = int(M['m01'] / M['m00'])\n",
    "        \n",
    "        # check to see if 4-side polygon is square or rectangle\n",
    "        # cv2.boundingRect returns the top left and then width and \n",
    "        if abs(w-h) <= 3:\n",
    "            shape_name = \"Square\"\n",
    "            \n",
    "            # find contour center to place text at the center\n",
    "            cv2.drawContours(image, [cnt], 0, (0, 125 ,255), -1)\n",
    "            cv2.putText(image, shape_name, (cx-50, cy), cv2.FONT_HERSHEY_SIMPLEX, 1, (0, 0, 0), 1)\n",
    "        else:\n",
    "            shape_name = \"Rectangle\"\n",
    "            \n",
    "            # find contour center to place text at the center\n",
    "            cv2.drawContours(image, [cnt], 0, (0, 0, 255), -1)\n",
    "            M = cv2.moments(cnt)\n",
    "            cx = int(M['m10'] / M['m00'])\n",
    "            cy = int(M['m01'] / M['m00'])\n",
    "            cv2.putText(image, shape_name, (cx-50, cy), cv2.FONT_HERSHEY_SIMPLEX, 1, (0, 0, 0), 1)\n",
    "            \n",
    "    elif len(approx) == 10:\n",
    "        shape_name = \"Star\"\n",
    "        cv2.drawContours(image, [cnt], 0, (255, 255, 0), -1)\n",
    "        M = cv2.moments(cnt)\n",
    "        cx = int(M['m10'] / M['m00'])\n",
    "        cy = int(M['m01'] / M['m00'])\n",
    "        cv2.putText(image, shape_name, (cx-50, cy), cv2.FONT_HERSHEY_SIMPLEX, 1, (0, 0, 0), 1)\n",
    "        \n",
    "    elif len(approx) >= 15:\n",
    "        shape_name = \"Circle\"\n",
    "        cv2.drawContours(image, [cnt], 0, (0, 255, 255), -1)\n",
    "        M = cv2.moments(cnt)\n",
    "        cx = int(M['m10'] / M['m00'])\n",
    "        cy = int(M['m01'] / M['m00'])\n",
    "        cv2.putText(image, shape_name, (cx-50, cy), cv2.FONT_HERSHEY_SIMPLEX, 1, (0, 0, 0), 1)\n",
    "\n",
    "    cv2.imshow('Identifying Shapes',image)\n",
    "    cv2.waitKey(0)\n",
    "    \n",
    "cv2.destroyAllWindows()"
   ]
  },
  {
   "cell_type": "markdown",
   "id": "b11bf6a0",
   "metadata": {},
   "source": [
    "### Line Detection"
   ]
  },
  {
   "cell_type": "code",
   "execution_count": 35,
   "id": "fb0ec237",
   "metadata": {},
   "outputs": [],
   "source": [
    "# line detection in images\n",
    "image = cv2.imread('sudoku.jpg')\n",
    "\n",
    "# grayscale and canny Edges extracted\n",
    "gray = cv2.cvtColor(image, cv2.COLOR_BGR2GRAY)\n",
    "edges = cv2.Canny(gray, 100, 170, apertureSize = 3)\n",
    "\n",
    "# run HoughLines using a rho accuracy of 1 pixel\n",
    "# theta accuracy of np.pi / 180 which is 1 degree\n",
    "# our line threshold is set to 240 (number of points on line)\n",
    "lines = cv2.HoughLines(edges, 1, np.pi / 360, 240)\n",
    "\n",
    "# we iterate through each line and convert it to the format\n",
    "# required by cv.lines (i.e. requiring end points)\n",
    "for rho, theta in lines[0]:\n",
    "    a = np.cos(theta)\n",
    "    b = np.sin(theta)\n",
    "    x0 = a * rho\n",
    "    y0 = b * rho\n",
    "    x1 = int(x0 + 1000 * (-b))\n",
    "    y1 = int(y0 + 1000 * (a))\n",
    "    x2 = int(x0 - 1000 * (-b))\n",
    "    y2 = int(y0 - 1000 * (a))\n",
    "    cv2.line(image, (x1, y1), (x2, y2), (255, 0, 0), 2)\n",
    "\n",
    "cv2.imshow('Hough Lines', image)\n",
    "cv2.waitKey(0)\n",
    "cv2.destroyAllWindows()"
   ]
  },
  {
   "cell_type": "markdown",
   "id": "b1399d83",
   "metadata": {},
   "source": [
    "### Line Detection using Probabilistic Hough Lines "
   ]
  },
  {
   "cell_type": "code",
   "execution_count": 43,
   "id": "6ab1cbf6",
   "metadata": {},
   "outputs": [
    {
     "name": "stdout",
     "output_type": "stream",
     "text": [
      "(175, 1, 4)\n"
     ]
    }
   ],
   "source": [
    "# line detection using Probabilistic Hough Lines \n",
    "\n",
    "# grayscale and Canny Edges extracted\n",
    "image = cv2.imread('sudoku.jpg')\n",
    "gray = cv2.cvtColor(image, cv2.COLOR_BGR2GRAY)\n",
    "edges = cv2.Canny(gray, 100, 170, apertureSize = 3)\n",
    "\n",
    "# Again we use the same rho and theta accuracies\n",
    "# However, we specific a minimum vote (pts along line) of 100\n",
    "# and Min line length of 5 pixels and max gap between lines of 10 pixels\n",
    "lines = cv2.HoughLinesP(edges, 1, np.pi / 180, 10, 5, 10)\n",
    "print (lines.shape)\n",
    "\n",
    "for x1, y1, x2, y2 in lines[0]:\n",
    "    cv2.line(image, (x1, y1), (x2, y2),(0, 255, 0), 3)\n",
    "\n",
    "cv2.imshow('Probabilistic Hough Lines', image)\n",
    "cv2.waitKey(0)\n",
    "cv2.destroyAllWindows()"
   ]
  },
  {
   "cell_type": "markdown",
   "id": "dd54fb0e",
   "metadata": {},
   "source": [
    "### Blob Detection"
   ]
  },
  {
   "cell_type": "code",
   "execution_count": 59,
   "id": "1098a226",
   "metadata": {},
   "outputs": [],
   "source": [
    "# detecting the centers of sunflowers\n",
    " \n",
    "# read the image\n",
    "image = cv2.imread(\"sunflowers.jpg\")\n",
    "\n",
    "# set up the detector with default parameters.\n",
    "detector = cv2.SimpleBlobDetector_create()\n",
    " \n",
    "# detect blobs.\n",
    "keypoints = detector.detect(image)\n",
    " \n",
    "# draw detected blobs as red circles.\n",
    "# cv2.DRAW_MATCHES_FLAGS_DRAW_RICH_KEYPOINTS ensures the size of\n",
    "# the circle corresponds to the size of blob\n",
    "blank = np.zeros((1,1)) \n",
    "blobs = cv2.drawKeypoints(image, keypoints, blank, (255,255,255),cv2.DRAW_MATCHES_FLAGS_DEFAULT)\n",
    "                     \n",
    "cv2.imshow(\"Blobs on SunFlowers\", blobs)\n",
    "cv2.waitKey(0)\n",
    "cv2.destroyAllWindows()"
   ]
  },
  {
   "cell_type": "markdown",
   "id": "fc196bd8",
   "metadata": {},
   "source": [
    "### Counting Circular Shapes"
   ]
  },
  {
   "cell_type": "code",
   "execution_count": 93,
   "id": "436d43af",
   "metadata": {},
   "outputs": [],
   "source": [
    "# load image\n",
    "image = cv2.imread(\"blobs.png\", 0)\n",
    "cv2.imshow('Original Image',image)\n",
    "cv2.waitKey(0)\n",
    "\n",
    "# intialize the detector using the default parameters\n",
    "detector = cv2.SimpleBlobDetector_create()\n",
    " \n",
    "# detect blobs\n",
    "keypoints = detector.detect(image)\n",
    " \n",
    "# draw blobs on our image as red circles\n",
    "blank = np.zeros((1,1)) \n",
    "blobs = cv2.drawKeypoints(image, keypoints, blank, (0,255,0), cv2.DRAW_MATCHES_FLAGS_DRAW_RICH_KEYPOINTS)\n",
    "                                      \n",
    "number_of_blobs = len(keypoints)\n",
    "text = \"Total Number of Blobs: \" + str(len(keypoints))\n",
    "cv2.putText(blobs, text, (20, 550), cv2.FONT_HERSHEY_SIMPLEX, 1, (00,255,0), 2)\n",
    "\n",
    "# display image with blob keypoints\n",
    "cv2.imshow(\"Blobs using default parameters\", blobs)\n",
    "cv2.waitKey(0)\n",
    "\n",
    "# set our filtering parameters\n",
    "# initialize parameter settiing using cv2.SimpleBlobDetector\n",
    "params = cv2.SimpleBlobDetector_Params()\n",
    "\n",
    "# set area filtering parameters\n",
    "params.filterByArea = True\n",
    "params.minArea = 100\n",
    "\n",
    "# set circularity filtering parameters\n",
    "params.filterByCircularity = True \n",
    "params.minCircularity = 0.9\n",
    "\n",
    "# set convexity filtering parameters\n",
    "params.filterByConvexity = False\n",
    "params.minConvexity = 0.2\n",
    "    \n",
    "# set inertia filtering parameters\n",
    "params.filterByInertia = True\n",
    "params.minInertiaRatio = 0.01\n",
    "\n",
    "# create a detector with the parameters\n",
    "detector = cv2.SimpleBlobDetector_create(params)\n",
    "    \n",
    "# detect blobs\n",
    "keypoints = detector.detect(image)\n",
    "\n",
    "# draw blobs on our image as red circles\n",
    "blank = np.zeros((1,1)) \n",
    "blobs = cv2.drawKeypoints(image, keypoints, blank, (0,255,0),cv2.DRAW_MATCHES_FLAGS_DRAW_RICH_KEYPOINTS)\n",
    "                                      \n",
    "number_of_blobs = len(keypoints)\n",
    "text = \"Number of Circular Blobs: \" + str(len(keypoints))\n",
    "cv2.putText(blobs, text, (20, 550), cv2.FONT_HERSHEY_SIMPLEX, 1, (0, 255, 0), 2)\n",
    "\n",
    "# show blobs\n",
    "cv2.imshow(\"Filtering Circular Blobs Only\", blobs)\n",
    "cv2.waitKey(0)\n",
    "cv2.destroyAllWindows()"
   ]
  }
 ],
 "metadata": {
  "kernelspec": {
   "display_name": "Python 3 (ipykernel)",
   "language": "python",
   "name": "python3"
  },
  "language_info": {
   "codemirror_mode": {
    "name": "ipython",
    "version": 3
   },
   "file_extension": ".py",
   "mimetype": "text/x-python",
   "name": "python",
   "nbconvert_exporter": "python",
   "pygments_lexer": "ipython3",
   "version": "3.9.12"
  }
 },
 "nbformat": 4,
 "nbformat_minor": 5
}
