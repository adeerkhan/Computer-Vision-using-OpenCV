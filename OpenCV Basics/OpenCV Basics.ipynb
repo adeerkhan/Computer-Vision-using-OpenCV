{
 "cells": [
  {
   "cell_type": "code",
   "execution_count": 2,
   "id": "1d3a934c",
   "metadata": {},
   "outputs": [],
   "source": [
    "import cv2\n",
    "import numpy as np\n",
    "from matplotlib import pyplot as plt "
   ]
  },
  {
   "cell_type": "code",
   "execution_count": 4,
   "id": "532c1510",
   "metadata": {},
   "outputs": [],
   "source": [
    "# load the image\n",
    "image = cv2.imread('ghani.jpg')"
   ]
  },
  {
   "cell_type": "code",
   "execution_count": 62,
   "id": "f069169b",
   "metadata": {},
   "outputs": [
    {
     "name": "stdout",
     "output_type": "stream",
     "text": [
      "(630, 1200, 3)\n"
     ]
    }
   ],
   "source": [
    "# display properties of the image (Height,Width, Channels (Red,Green,Blue))\n",
    "print(image.shape)"
   ]
  },
  {
   "cell_type": "code",
   "execution_count": 63,
   "id": "d8b688ae",
   "metadata": {},
   "outputs": [],
   "source": [
    "# resize the image to a smaller size\n",
    "resized_image = cv2.resize(image, (600, 300))"
   ]
  },
  {
   "cell_type": "code",
   "execution_count": 64,
   "id": "dd6d0f40",
   "metadata": {},
   "outputs": [],
   "source": [
    "# display the resized image\n",
    "cv2.imshow('Poet', resized_image)\n",
    "\n",
    "# wait for user to press any key\n",
    "cv2.waitKey(0)\n",
    "\n",
    "# close all windows\n",
    "cv2.destroyAllWindows()"
   ]
  },
  {
   "cell_type": "code",
   "execution_count": 65,
   "id": "99980439",
   "metadata": {},
   "outputs": [],
   "source": [
    "directory=r'C:\\Users\\Adeer\\Machine Learning\\Computer Vision\\Basics of OpenCV'\n",
    "\n",
    "filename = 'Saved Image.png'"
   ]
  },
  {
   "cell_type": "code",
   "execution_count": 66,
   "id": "3e639e39",
   "metadata": {},
   "outputs": [
    {
     "name": "stdout",
     "output_type": "stream",
     "text": [
      "Image Saved\n"
     ]
    }
   ],
   "source": [
    "cv2.imwrite(filename,image)\n",
    "print('Image Saved')"
   ]
  },
  {
   "cell_type": "code",
   "execution_count": 67,
   "id": "6ce3f71b",
   "metadata": {},
   "outputs": [],
   "source": [
    "# converting image to grayscale\n",
    "gray = cv2.cvtColor(resized_image,cv2.COLOR_BGR2GRAY)"
   ]
  },
  {
   "cell_type": "code",
   "execution_count": 68,
   "id": "866345a4",
   "metadata": {},
   "outputs": [],
   "source": [
    "# display the previous and new\n",
    "cv2.imshow('Poet RGB', resized_image)\n",
    "cv2.imshow('Poet Grayscale',gray)\n",
    "\n",
    "# must for displaying an image, otherwise kernel would crash\n",
    "cv2.waitKey(0)\n",
    "cv2.destroyAllWindows()"
   ]
  },
  {
   "cell_type": "code",
   "execution_count": 91,
   "id": "2b2c5b39",
   "metadata": {},
   "outputs": [],
   "source": [
    "# adding text over an image\n",
    "text = 'Ghani Khan'\n",
    "\n",
    "# defining the properties of the text\n",
    "coordinates = (50,100)\n",
    "font = cv2.FONT_HERSHEY_COMPLEX # use tab here to check different fonts\n",
    "fontscale = 1\n",
    "color = (0,500,500)\n",
    "thickness = 2"
   ]
  },
  {
   "cell_type": "code",
   "execution_count": 92,
   "id": "8ef2ade0",
   "metadata": {},
   "outputs": [],
   "source": [
    "# displaying the text image now\n",
    "cv2.imshow('Ghani Khan with Text', cv2.putText(resized_image,text,coordinates,font,fontscale,color,thickness))\n",
    "cv2.waitKey(0)\n",
    "cv2.destroyAllWindows()"
   ]
  },
  {
   "cell_type": "code",
   "execution_count": 114,
   "id": "aaf1c897",
   "metadata": {},
   "outputs": [],
   "source": [
    "# drawing a line over the image\n",
    "color = (0,500,500)\n",
    "thickness = 5\n",
    "start_point = (200,200)\n",
    "end_point = (400,300)"
   ]
  },
  {
   "cell_type": "code",
   "execution_count": 115,
   "id": "be1107aa",
   "metadata": {},
   "outputs": [],
   "source": [
    "# displaying the line image now\n",
    "\n",
    "cv2.imshow('Ghani Khan with Line', cv2.line(resized_image,start_point,end_point,color,thickness))\n",
    "cv2.waitKey(0)\n",
    "cv2.destroyAllWindows()"
   ]
  },
  {
   "cell_type": "code",
   "execution_count": 122,
   "id": "2c16cdd1",
   "metadata": {},
   "outputs": [],
   "source": [
    "# setting properties of ellipse\n",
    "\n",
    "center_coodinates = (150,150)\n",
    "axeslength = (100,50)\n",
    "angle = 90\n",
    "startangle = 0\n",
    "endangle = 360"
   ]
  },
  {
   "cell_type": "code",
   "execution_count": 123,
   "id": "554deeba",
   "metadata": {},
   "outputs": [],
   "source": [
    "# displaying the ellipse image now\n",
    "\n",
    "cv2.imshow('Ghani Khan with Ellipse', cv2.ellipse(resized_image,center_coodinates,axeslength,angle,startangle,endangle,color,thickness))\n",
    "cv2.waitKey(0)\n",
    "cv2.destroyAllWindows()"
   ]
  },
  {
   "cell_type": "code",
   "execution_count": 126,
   "id": "e2664a3a",
   "metadata": {},
   "outputs": [],
   "source": [
    "# displaying image in multiple modes\n",
    "\n",
    "# now we are reading the image in different scales, a much simpler way\n",
    "img = cv2.imread('Saved Image.png',0)\n",
    "cv2.imshow('Ghani Khan',img)\n",
    "cv2.waitKey(0)\n",
    "cv2.destroyAllWindows()"
   ]
  },
  {
   "cell_type": "code",
   "execution_count": 5,
   "id": "4a07bba6",
   "metadata": {},
   "outputs": [],
   "source": [
    "# webcam video capture\n",
    "\n",
    "abc = cv2.VideoCapture(0)\n",
    "\n",
    "while (True):\n",
    "    ret_, frame = abc.read()\n",
    "    cv2.imshow(\"abc\",frame)\n",
    "    if cv2.waitKey(1) & 0xFF == ord('q'):\n",
    "        break\n",
    "        abc.release()\n",
    "        \n",
    "cv2.destroyAllWindows()"
   ]
  },
  {
   "cell_type": "code",
   "execution_count": 8,
   "id": "d09f1adc",
   "metadata": {},
   "outputs": [
    {
     "name": "stdout",
     "output_type": "stream",
     "text": [
      "The video was saved successfully\n"
     ]
    }
   ],
   "source": [
    "# capturing a video\n",
    "\n",
    "cap = cv2.VideoCapture(0)\n",
    "\n",
    "# if camera does not open\n",
    "if (cap.isOpened() == False):\n",
    "    print(\"Camera could not open\")\n",
    "    \n",
    "frame_width = int(cap.get(3)) \n",
    "frame_height = int(cap.get(4))\n",
    "\n",
    "# video codec (encoders & decoders)\n",
    "video_cod = cv2.VideoWriter_fourcc(*'XVID')\n",
    "video_output = cv2.VideoWriter('Captured Video.MP4',video_cod,30,(frame_width,frame_height))\n",
    "\n",
    "# while loop is used to process the running webcam\n",
    "while (True):\n",
    "    ret_, frame = cap.read()\n",
    "    \n",
    "    if ret_ == True:\n",
    "        \n",
    "    # each frame is wrote into directory\n",
    "        video_output.write(frame)\n",
    "        cv2.imshow(\"cap\",frame)\n",
    "        if cv2.waitKey(1) & 0xFF == ord('q'):\n",
    "            break\n",
    "    else:\n",
    "        break\n",
    "cap.release()\n",
    "video_output.release()\n",
    "cv2.destroyAllWindows()\n",
    "print('The video was saved successfully')"
   ]
  },
  {
   "cell_type": "code",
   "execution_count": 4,
   "id": "aa315964",
   "metadata": {},
   "outputs": [],
   "source": [
    "# playing any video file \n",
    "\n",
    "video = cv2.VideoCapture(\"Captured Video.MP4\")\n",
    "\n",
    "while (True):\n",
    "    ret_, frame = video.read()\n",
    "    cv2.imshow(\"Captured Video\",frame)\n",
    "    if cv2.waitKey(1) & 0xFF == ord('q'):\n",
    "        break\n",
    "video.release()\n",
    "cv2.destroyAllWindows()"
   ]
  },
  {
   "cell_type": "code",
   "execution_count": 8,
   "id": "559c5c6d",
   "metadata": {},
   "outputs": [
    {
     "name": "stdout",
     "output_type": "stream",
     "text": [
      "[33 33 33]\n"
     ]
    }
   ],
   "source": [
    "# accessing a pixel value of any image\n",
    "\n",
    "image = cv2.imread(\"Saved Image.png\")\n",
    "px = image[100,100]\n",
    "print(px)\n"
   ]
  },
  {
   "cell_type": "code",
   "execution_count": 9,
   "id": "2d57d538",
   "metadata": {},
   "outputs": [
    {
     "name": "stdout",
     "output_type": "stream",
     "text": [
      "[255 255 255]\n"
     ]
    }
   ],
   "source": [
    "# modifying the pixel value of an image\n",
    "\n",
    "image[100,100] = [255,255,255]\n",
    "print(image[100,100])"
   ]
  },
  {
   "cell_type": "code",
   "execution_count": 14,
   "id": "07bb63ea",
   "metadata": {},
   "outputs": [
    {
     "name": "stdout",
     "output_type": "stream",
     "text": [
      "RGB Shape:  (630, 1200, 3)\n",
      "ARGB Shape:  (630, 1200, 3)\n",
      "GRGB Shape:  (630, 1200)\n"
     ]
    }
   ],
   "source": [
    "# accessing image properties\n",
    "\n",
    "image_file = \"Saved Image.png\"\n",
    "image = cv2.imread(image_file,cv2.IMREAD_COLOR)\n",
    "alpha_image = cv2.imread(image_file,cv2.IMREAD_UNCHANGED)\n",
    "grey_image = cv2.imread(image_file,cv2.IMREAD_GRAYSCALE)\n",
    "\n",
    "print('RGB Shape: ', image.shape)\n",
    "print('ARGB Shape: ', alpha_image.shape)\n",
    "print('GRGB Shape: ', grey_image.shape)\n"
   ]
  },
  {
   "cell_type": "code",
   "execution_count": 16,
   "id": "92791811",
   "metadata": {},
   "outputs": [
    {
     "name": "stdout",
     "output_type": "stream",
     "text": [
      "image data type:  uint8\n"
     ]
    }
   ],
   "source": [
    "# finding data type of an image\n",
    "\n",
    "print('image data type: ', image.dtype)"
   ]
  },
  {
   "cell_type": "code",
   "execution_count": 18,
   "id": "aedac72e",
   "metadata": {},
   "outputs": [
    {
     "name": "stdout",
     "output_type": "stream",
     "text": [
      "image size:  2268000\n"
     ]
    }
   ],
   "source": [
    "# finding size of an image\n",
    "\n",
    "print('image size: ', image.size)"
   ]
  },
  {
   "cell_type": "code",
   "execution_count": 3,
   "id": "ceddc677",
   "metadata": {},
   "outputs": [
    {
     "name": "stdout",
     "output_type": "stream",
     "text": [
      "(522, 10, 394, 511)\n"
     ]
    }
   ],
   "source": [
    "# specific region of an image\n",
    "\n",
    "image_file = \"Saved Image.png\"\n",
    "image_raw = cv2.imread(image_file)\n",
    "\n",
    "roi = cv2.selectROI(image_raw)\n",
    "print(roi)\n",
    "\n",
    "roi_cropped = image_raw[int(roi[1]):int(roi[1]+roi[3]), int(roi[0]):int(roi[0]+roi[2])]\n",
    "cv2.imshow(\"ROI Image\",roi_cropped)\n",
    "\n",
    "# saving the cropped area\n",
    "cv2.imwrite(\"cropped image.jpeg\",roi_cropped)\n",
    "\n",
    "cv2.waitKey(0)\n",
    "cv2.destroyAllWindows()"
   ]
  },
  {
   "cell_type": "code",
   "execution_count": 7,
   "id": "c19fd5b0",
   "metadata": {},
   "outputs": [],
   "source": [
    "# splitting image into different channels\n",
    "\n",
    "image_file = \"Saved Image.png\"\n",
    "image = cv2.imread(image_file)\n",
    "\n",
    "g,b,r=cv2.split(image)\n",
    "cv2.imshow(\"Green part of image\",g)\n",
    "cv2.imshow(\"Blue part of image\",b)\n",
    "cv2.imshow(\"Red part of image\",r)\n",
    "\n",
    "# merging different channel images into one\n",
    "merged_image = cv2.merge((g,b,r))\n",
    "cv2.imshow(\"Merged Image\",merged_image)\n",
    "\n",
    "cv2.waitKey(0)\n",
    "cv2.destroyAllWindows()"
   ]
  },
  {
   "cell_type": "code",
   "execution_count": 8,
   "id": "5d988a69",
   "metadata": {},
   "outputs": [],
   "source": [
    "# changing color scheme of image\n",
    "\n",
    "image_file = \"Saved Image.png\"\n",
    "image = cv2.imread(image_file)\n",
    "\n",
    "colored_image = cv2.cvtColor(image, cv2.COLOR_RGB2LAB)\n",
    "\n",
    "cv2.imshow(\"Old Image\",image)\n",
    "cv2.imshow(\"Colored Image\",colored_image)\n",
    "\n",
    "\n",
    "cv2.waitKey(0)\n",
    "cv2.destroyAllWindows()"
   ]
  },
  {
   "cell_type": "code",
   "execution_count": 21,
   "id": "775254d0",
   "metadata": {},
   "outputs": [],
   "source": [
    "# blending two images\n",
    "\n",
    "src1 = cv2.imread(\"luminaries.png\", cv2.IMREAD_COLOR)\n",
    "src2 = cv2.imread(\"Saved Image.png\", cv2.IMREAD_COLOR)\n",
    "\n",
    "# both images must be brought to same resolution\n",
    "img1 = cv2.resize(src1, (1200,600))\n",
    "img2 = cv2.resize(src2, (1200,600))\n",
    "\n",
    "blended_image = cv2.addWeighted(img1,1 , img2,0.4,0.0)\n",
    "cv2.imshow(\"Blended Image\",blended_image)\n",
    "\n",
    "cv2.waitKey(0)\n",
    "cv2.destroyAllWindows()"
   ]
  },
  {
   "cell_type": "code",
   "execution_count": 51,
   "id": "a095a0fe",
   "metadata": {},
   "outputs": [],
   "source": [
    "# applying various filters on the image\n",
    "\n",
    "image = cv2.imread(\"luminaries.png\")\n",
    "k_sharped = np.array([[-1,-1,-1],\n",
    "                     [-1,8,-1],\n",
    "                     [-1,-1,-1]])\n",
    "sharpened = cv2.filter2D(image, -1, k_sharped)\n",
    "\n",
    "cv2.imshow(\"Sharpened Image\",sharpened)\n",
    "\n",
    "cv2.waitKey(0)\n",
    "cv2.destroyAllWindows()"
   ]
  },
  {
   "cell_type": "code",
   "execution_count": 67,
   "id": "a9cae267",
   "metadata": {},
   "outputs": [],
   "source": [
    "# image thresholding\n",
    "\n",
    "image = cv2.imread(\"luminaries.png\",cv2.IMREAD_GRAYSCALE)\n",
    "ret, thresh = cv2.threshold(image, 127, 255, cv2.THRESH_BINARY)\n",
    "cannyimage = cv2.Canny(image, 20,20)\n",
    "\n",
    "cv2.imshow(\"Original Image\",image)\n",
    "cv2.imshow(\"Threshold Image\",thresh)\n",
    "cv2.imshow(\"Canny Image\",cannyimage)\n",
    "\n",
    "cv2.waitKey(0)\n",
    "cv2.destroyAllWindows()"
   ]
  },
  {
   "cell_type": "code",
   "execution_count": 76,
   "id": "2cead576",
   "metadata": {},
   "outputs": [],
   "source": [
    "# shape and contour detection\n",
    "\n",
    "image = cv2.imread(\"luminaries.png\")\n",
    "gray = cv2.cvtColor(image, cv2.COLOR_RGB2GRAY)\n",
    "\n",
    "# setting threshold \n",
    "\n",
    "threshold = cv2.threshold(gray, 127, 255,cv2.THRESH_BINARY)[1].astype(np.uint8)\n",
    "\n",
    "# contours using find contours function\n",
    "\n",
    "contours = cv2.findContours(threshold, cv2.RETR_TREE,cv2.CHAIN_APPROX_SIMPLE)[0]\n",
    "\n",
    "i = 0\n",
    "for contour in contours:\n",
    "    if i == 0:\n",
    "        i=+1\n",
    "        continue\n",
    "    approx = cv2.approxPolyDP(contour,0.01*cv2.arcLength(contour, True),True)\n",
    "    cv2.drawContours(image,[contour],0, (255,0,255),5)\n",
    "    \n",
    "    # finding the center of shapes in image\n",
    "    M = cv2.moments(contour)\n",
    "    if M['m00'] != 0.0:\n",
    "        x = int(M['m10']/M['m00'])\n",
    "        y = int(M['m01']/M['m00'])\n",
    "\n",
    "    # adding names to the shapes in the center\n",
    "    if len(approx) == 3:\n",
    "        cv2.putText(image, 'Triangle', (x,y), cv2.FONT_HERSHEY_SIMPLEX,0.6,(0,255,255),2)\n",
    "        \n",
    "    elif len(approx) == 4:\n",
    "        cv2.putText(image, 'Quadrilateral', (x,y), cv2.FONT_HERSHEY_SIMPLEX,0.6,(0,255,255),2)\n",
    "        \n",
    "    elif len(approx) == 5:\n",
    "        cv2.putText(image, 'Pentagon', (x,y), cv2.FONT_HERSHEY_SIMPLEX,0.6,(0,255,255),2)\n",
    "        \n",
    "    elif len(approx) == 6:\n",
    "        cv2.putText(image, 'Hexagon', (x,y), cv2.FONT_HERSHEY_SIMPLEX,0.6,(0,255,255),2)\n",
    "        \n",
    "    else:\n",
    "        cv2.putText(image, 'Circle', (x,y), cv2.FONT_HERSHEY_SIMPLEX,0.6,(0,255,255),2)\n",
    "        \n",
    "# displaying images now\n",
    "cv2.imshow('shapes',image)\n",
    "\n",
    "cv2.waitKey(0)\n",
    "cv2.destroyAllWindows()"
   ]
  },
  {
   "cell_type": "code",
   "execution_count": 102,
   "id": "e72c5db0",
   "metadata": {},
   "outputs": [],
   "source": [
    "# color detection in an image\n",
    "\n",
    "image = cv2.imread(\"luminaries.png\")\n",
    "\n",
    "# HSV (Hue, Saturation and Value), is commonly used in softwares\n",
    "\n",
    "hsv = cv2.cvtColor(image, cv2.COLOR_BGR2HSV)\n",
    "\n",
    "lower_yellow = np.array([10,100,20])\n",
    "upper_yellow = np.array([25,255,255])\n",
    "\n",
    "# threshold HSV images to only get yellow colors\n",
    "\n",
    "mask_yellow = cv2.inRange(hsv,lower_yellow,upper_yellow)\n",
    "\n",
    "res = cv2.bitwise_and(image,image,mask =mask_yellow)\n",
    "\n",
    "cv2.imshow(\"Blue Image\", res)\n",
    "\n",
    "cv2.waitKey(0)\n",
    "cv2.destroyAllWindows()"
   ]
  },
  {
   "cell_type": "code",
   "execution_count": 26,
   "id": "80f76a70",
   "metadata": {},
   "outputs": [
    {
     "name": "stdout",
     "output_type": "stream",
     "text": [
      "(200, 600, 3)\n"
     ]
    }
   ],
   "source": [
    "# object replacing on image\n",
    "\n",
    "image = cv2.imread(\"luminaries.png\",cv2.IMREAD_COLOR)\n",
    "\n",
    "image1 = image.copy()\n",
    "mask = np.zeros((200,600,3))\n",
    "print(mask.shape)\n",
    "\n",
    "pos = (100,100)\n",
    "var = image1[200:(200+mask.shape[0]), 200:(200+mask.shape[1])] = mask\n",
    "cv2.imshow(\"colored\",image1)\n",
    "\n",
    "cv2.waitKey(0)\n",
    "cv2.destroyAllWindows()"
   ]
  },
  {
   "cell_type": "code",
   "execution_count": 27,
   "id": "eef14bf6",
   "metadata": {},
   "outputs": [],
   "source": [
    "# Thats all folks for the basics!"
   ]
  }
 ],
 "metadata": {
  "kernelspec": {
   "display_name": "Python 3 (ipykernel)",
   "language": "python",
   "name": "python3"
  },
  "language_info": {
   "codemirror_mode": {
    "name": "ipython",
    "version": 3
   },
   "file_extension": ".py",
   "mimetype": "text/x-python",
   "name": "python",
   "nbconvert_exporter": "python",
   "pygments_lexer": "ipython3",
   "version": "3.9.12"
  }
 },
 "nbformat": 4,
 "nbformat_minor": 5
}
